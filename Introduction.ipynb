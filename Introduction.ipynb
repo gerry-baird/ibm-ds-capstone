{
    "cells": [
        {
            "cell_type": "markdown",
            "metadata": {
                "collapsed": true
            },
            "source": "# Inferring Wealth from Property Value and Supermarket Proximity\n\nThis notebook is part of my capstone project for th IBM DataScience professional certificate."
        },
        {
            "cell_type": "markdown",
            "metadata": {},
            "source": "# Introduction\n\n\nWhilst there is detailed information on UK property prices it is impossible to infer the wealth characteristics of an area just using property prices. If we could combine property prices with household income we could get a much clearer picture of relative wealth. Unfortunately detailed earnings statistics for the UK are not available at the local level, at least not publicly, so can we infer the average earnings of an area by examining the grocery stores present in that area?\n\nGrocery shopping in the UK is dominated by large supermarket chains but they target different kinds of customers. Premium supermarkets are operated by Waitrose and M&S, mainstream supermarkets are operated by Tesco, Sainsburys, Asda and Morrisons. Budget supermarkets are operated by Lidl and Aldi.\n\nThis project will analyses areas in the UK to see if any wealth insights can be derived from presence of certain supermarkets combined with property values. These insights could be useful to anyone planning a marketing campaign or service where wealth or poverty could be an indicator of viability. For the purposes of this exercise I will imagine that my stakeholders run a network of luxury car dealerships and wish to expand into other parts of the UK. Understanding local property values combined with indicators of wealth will help them identify potential locations that are both cheaper in terms of property prices yet also contain wealthy potential customers."
        },
        {
            "cell_type": "code",
            "execution_count": null,
            "metadata": {},
            "outputs": [],
            "source": ""
        }
    ],
    "metadata": {
        "kernelspec": {
            "display_name": "Python 3.6",
            "language": "python",
            "name": "python3"
        },
        "language_info": {
            "codemirror_mode": {
                "name": "ipython",
                "version": 3
            },
            "file_extension": ".py",
            "mimetype": "text/x-python",
            "name": "python",
            "nbconvert_exporter": "python",
            "pygments_lexer": "ipython3",
            "version": "3.6.9"
        }
    },
    "nbformat": 4,
    "nbformat_minor": 1
}