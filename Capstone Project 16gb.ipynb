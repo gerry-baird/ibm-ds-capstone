{
    "cells": [
        {
            "cell_type": "markdown",
            "metadata": {},
            "source": "# Data\n\nThis notebook will combine UK property transaction data published by the UK Govt Land Registry on Kaggle with location insights provided by FourSquare.\n\n\nThe Kaggle dataset is here [UK Housing Prices Paid | Kaggle](https://www.kaggle.com/hm-land-registry/uk-housing-prices-paid)\n\nThere is 2.2 GB of data in the complete dataset, containing property transactions from 1995 until 2017. This will be reduced as we are only interested in the most recent years worth of data and those that reliably indicate an areas average property value (freehold sales, exclusion of very cheap and very expensive properties)\n"
        },
        {
            "cell_type": "code",
            "execution_count": 2,
            "metadata": {},
            "outputs": [],
            "source": "# The code was removed by Watson Studio for sharing."
        },
        {
            "cell_type": "markdown",
            "metadata": {},
            "source": "## Price Data\nThe data is loaded into a Pandas dataframe using a hidden cell, this is done to protect my IBM Cloud credentials. The cell below provides a preview of our base data"
        },
        {
            "cell_type": "code",
            "execution_count": 3,
            "metadata": {},
            "outputs": [
                {
                    "data": {
                        "text/html": "<div>\n<style scoped>\n    .dataframe tbody tr th:only-of-type {\n        vertical-align: middle;\n    }\n\n    .dataframe tbody tr th {\n        vertical-align: top;\n    }\n\n    .dataframe thead th {\n        text-align: right;\n    }\n</style>\n<table border=\"1\" class=\"dataframe\">\n  <thead>\n    <tr style=\"text-align: right;\">\n      <th></th>\n      <th>Transaction unique identifier</th>\n      <th>Price</th>\n      <th>Date of Transfer</th>\n      <th>Property Type</th>\n      <th>Old/New</th>\n      <th>Duration</th>\n      <th>Town/City</th>\n      <th>District</th>\n      <th>County</th>\n      <th>PPDCategory Type</th>\n      <th>Record Status - monthly file only</th>\n    </tr>\n  </thead>\n  <tbody>\n    <tr>\n      <th>0</th>\n      <td>{81B82214-7FBC-4129-9F6B-4956B4A663AD}</td>\n      <td>25000</td>\n      <td>1995-08-18 00:00</td>\n      <td>T</td>\n      <td>N</td>\n      <td>F</td>\n      <td>OLDHAM</td>\n      <td>OLDHAM</td>\n      <td>GREATER MANCHESTER</td>\n      <td>A</td>\n      <td>A</td>\n    </tr>\n    <tr>\n      <th>1</th>\n      <td>{8046EC72-1466-42D6-A753-4956BF7CD8A2}</td>\n      <td>42500</td>\n      <td>1995-08-09 00:00</td>\n      <td>S</td>\n      <td>N</td>\n      <td>F</td>\n      <td>GRAYS</td>\n      <td>THURROCK</td>\n      <td>THURROCK</td>\n      <td>A</td>\n      <td>A</td>\n    </tr>\n    <tr>\n      <th>2</th>\n      <td>{278D581A-5BF3-4FCE-AF62-4956D87691E6}</td>\n      <td>45000</td>\n      <td>1995-06-30 00:00</td>\n      <td>T</td>\n      <td>N</td>\n      <td>F</td>\n      <td>HIGHBRIDGE</td>\n      <td>SEDGEMOOR</td>\n      <td>SOMERSET</td>\n      <td>A</td>\n      <td>A</td>\n    </tr>\n    <tr>\n      <th>3</th>\n      <td>{1D861C06-A416-4865-973C-4956DB12CD12}</td>\n      <td>43150</td>\n      <td>1995-11-24 00:00</td>\n      <td>T</td>\n      <td>N</td>\n      <td>F</td>\n      <td>BEDFORD</td>\n      <td>NORTH BEDFORDSHIRE</td>\n      <td>BEDFORDSHIRE</td>\n      <td>A</td>\n      <td>A</td>\n    </tr>\n    <tr>\n      <th>4</th>\n      <td>{DD8645FD-A815-43A6-A7BA-4956E58F1874}</td>\n      <td>18899</td>\n      <td>1995-06-23 00:00</td>\n      <td>S</td>\n      <td>N</td>\n      <td>F</td>\n      <td>WAKEFIELD</td>\n      <td>LEEDS</td>\n      <td>WEST YORKSHIRE</td>\n      <td>A</td>\n      <td>A</td>\n    </tr>\n  </tbody>\n</table>\n</div>",
                        "text/plain": "            Transaction unique identifier  Price  Date of Transfer  \\\n0  {81B82214-7FBC-4129-9F6B-4956B4A663AD}  25000  1995-08-18 00:00   \n1  {8046EC72-1466-42D6-A753-4956BF7CD8A2}  42500  1995-08-09 00:00   \n2  {278D581A-5BF3-4FCE-AF62-4956D87691E6}  45000  1995-06-30 00:00   \n3  {1D861C06-A416-4865-973C-4956DB12CD12}  43150  1995-11-24 00:00   \n4  {DD8645FD-A815-43A6-A7BA-4956E58F1874}  18899  1995-06-23 00:00   \n\n  Property Type Old/New Duration   Town/City            District  \\\n0             T       N        F      OLDHAM              OLDHAM   \n1             S       N        F       GRAYS            THURROCK   \n2             T       N        F  HIGHBRIDGE           SEDGEMOOR   \n3             T       N        F     BEDFORD  NORTH BEDFORDSHIRE   \n4             S       N        F   WAKEFIELD               LEEDS   \n\n               County PPDCategory Type Record Status - monthly file only  \n0  GREATER MANCHESTER                A                                 A  \n1            THURROCK                A                                 A  \n2            SOMERSET                A                                 A  \n3        BEDFORDSHIRE                A                                 A  \n4      WEST YORKSHIRE                A                                 A  "
                    },
                    "execution_count": 3,
                    "metadata": {},
                    "output_type": "execute_result"
                }
            ],
            "source": "price_data.head()"
        },
        {
            "cell_type": "code",
            "execution_count": null,
            "metadata": {},
            "outputs": [],
            "source": ""
        }
    ],
    "metadata": {
        "kernelspec": {
            "display_name": "Python 3.6",
            "language": "python",
            "name": "python3"
        },
        "language_info": {
            "codemirror_mode": {
                "name": "ipython",
                "version": 3
            },
            "file_extension": ".py",
            "mimetype": "text/x-python",
            "name": "python",
            "nbconvert_exporter": "python",
            "pygments_lexer": "ipython3",
            "version": "3.6.9"
        }
    },
    "nbformat": 4,
    "nbformat_minor": 1
}